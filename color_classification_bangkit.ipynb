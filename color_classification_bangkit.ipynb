{
  "cells": [
    {
      "cell_type": "code",
      "execution_count": 1,
      "metadata": {
        "id": "NOYAfJ6cVP2O"
      },
      "outputs": [
        {
          "name": "stdout",
          "output_type": "stream",
          "text": [
            "WARNING:tensorflow:From e:\\Projek\\color-classification\\venv\\Lib\\site-packages\\keras\\src\\losses.py:2976: The name tf.losses.sparse_softmax_cross_entropy is deprecated. Please use tf.compat.v1.losses.sparse_softmax_cross_entropy instead.\n",
            "\n"
          ]
        }
      ],
      "source": [
        "import numpy as np\n",
        "import pandas as pd\n",
        "import matplotlib.pyplot as plt\n",
        "%matplotlib inline\n",
        "from tensorflow.keras import layers, models\n",
        "from tensorflow.keras.preprocessing.image import ImageDataGenerator\n",
        "from tensorflow.keras.callbacks import ModelCheckpoint\n",
        "import seaborn as sns\n",
        "from sklearn.metrics import confusion_matrix, classification_report\n",
        "import tensorflow as tf\n",
        "import scipy\n"
      ]
    },
    {
      "cell_type": "markdown",
      "metadata": {
        "id": "241FSa6qsy-E"
      },
      "source": [
        "# Preprocessing\n"
      ]
    },
    {
      "cell_type": "code",
      "execution_count": 2,
      "metadata": {
        "id": "IWe2qHdEs0ry"
      },
      "outputs": [],
      "source": [
        "CATEGORIES = ['Black','Blue','Brown','Gray', 'Green','Orange','Pink','Purple','Red','White','Yellow','Cream']\n",
        "DATADIR = './datasets/colors'\n",
        "IMG_SIZE = 640"
      ]
    },
    {
      "cell_type": "code",
      "execution_count": 3,
      "metadata": {
        "id": "5imnsnzitfn5"
      },
      "outputs": [],
      "source": [
        "train_datagen = tf.keras.preprocessing.image.ImageDataGenerator(\n",
        "    rescale=1./255,\n",
        "    shear_range=0.2,\n",
        "    zoom_range=0.2,\n",
        "    horizontal_flip=True,\n",
        "    validation_split=0.2  # 80% for training, 20% for validation\n",
        ")\n"
      ]
    },
    {
      "cell_type": "code",
      "execution_count": 4,
      "metadata": {
        "colab": {
          "base_uri": "https://localhost:8080/"
        },
        "id": "nzV6DvN72mn3",
        "outputId": "ba3e426c-ae1b-49fd-eed4-8b8145e5e140"
      },
      "outputs": [
        {
          "name": "stdout",
          "output_type": "stream",
          "text": [
            "Found 2794 images belonging to 12 classes.\n"
          ]
        }
      ],
      "source": [
        "train_generator = train_datagen.flow_from_directory(\n",
        "    DATADIR,\n",
        "    target_size=(32, 32),\n",
        "    batch_size=32,\n",
        "    class_mode='categorical',\n",
        "    subset='training',\n",
        "    classes=CATEGORIES\n",
        ")"
      ]
    },
    {
      "cell_type": "code",
      "execution_count": 5,
      "metadata": {
        "colab": {
          "base_uri": "https://localhost:8080/"
        },
        "id": "o8QVtE-n5BfM",
        "outputId": "36779e19-8da9-44ae-bda1-c1ff9b22bd20"
      },
      "outputs": [
        {
          "name": "stdout",
          "output_type": "stream",
          "text": [
            "Found 691 images belonging to 12 classes.\n"
          ]
        }
      ],
      "source": [
        "validation_generator = train_datagen.flow_from_directory(\n",
        "    DATADIR,\n",
        "    target_size=(32, 32),\n",
        "    batch_size=32,\n",
        "    class_mode='categorical',\n",
        "    subset='validation',\n",
        "    classes=CATEGORIES\n",
        ")"
      ]
    },
    {
      "cell_type": "markdown",
      "metadata": {
        "id": "IVOO3c6VuSrI"
      },
      "source": [
        "# Creating Model\n"
      ]
    },
    {
      "cell_type": "code",
      "execution_count": 6,
      "metadata": {
        "id": "XcRZ3ypiuVjC"
      },
      "outputs": [
        {
          "name": "stdout",
          "output_type": "stream",
          "text": [
            "WARNING:tensorflow:From e:\\Projek\\color-classification\\venv\\Lib\\site-packages\\keras\\src\\backend.py:873: The name tf.get_default_graph is deprecated. Please use tf.compat.v1.get_default_graph instead.\n",
            "\n",
            "WARNING:tensorflow:From e:\\Projek\\color-classification\\venv\\Lib\\site-packages\\keras\\src\\layers\\pooling\\max_pooling2d.py:161: The name tf.nn.max_pool is deprecated. Please use tf.nn.max_pool2d instead.\n",
            "\n"
          ]
        }
      ],
      "source": [
        "model = models.Sequential()\n",
        "model.add(layers.Conv2D(32, (3, 3), activation='relu', input_shape=(36, 32, 3)))\n",
        "model.add(layers.MaxPooling2D((2, 2)))\n",
        "model.add(layers.Conv2D(64, (3, 3), activation='relu'))\n",
        "model.add(layers.MaxPooling2D((2, 2)))\n",
        "model.add(layers.Conv2D(64, (3, 3), activation='relu'))\n",
        "model.add(layers.Flatten())\n",
        "model.add(layers.Dense(64, activation='relu'))\n",
        "model.add(layers.Dense(len(CATEGORIES), activation='softmax'))"
      ]
    },
    {
      "cell_type": "code",
      "execution_count": 7,
      "metadata": {
        "id": "cF_FIHZYun43"
      },
      "outputs": [
        {
          "name": "stdout",
          "output_type": "stream",
          "text": [
            "WARNING:tensorflow:From e:\\Projek\\color-classification\\venv\\Lib\\site-packages\\keras\\src\\optimizers\\__init__.py:309: The name tf.train.Optimizer is deprecated. Please use tf.compat.v1.train.Optimizer instead.\n",
            "\n"
          ]
        }
      ],
      "source": [
        "model.compile(optimizer='adam',\n",
        "              loss='categorical_crossentropy',\n",
        "              metrics=['accuracy'])"
      ]
    },
    {
      "cell_type": "code",
      "execution_count": 8,
      "metadata": {
        "id": "5g6pQiefursa"
      },
      "outputs": [],
      "source": [
        "checkpoint = ModelCheckpoint(\"best_model.h5\", monitor='val_accuracy', save_best_only=True, mode='max')"
      ]
    },
    {
      "cell_type": "code",
      "execution_count": 9,
      "metadata": {
        "colab": {
          "base_uri": "https://localhost:8080/"
        },
        "id": "PtIhmwy8xaY2",
        "outputId": "36d7043e-af7b-414e-a075-7a16e232f188"
      },
      "outputs": [
        {
          "name": "stdout",
          "output_type": "stream",
          "text": [
            "Epoch 1/50\n",
            "WARNING:tensorflow:From e:\\Projek\\color-classification\\venv\\Lib\\site-packages\\keras\\src\\utils\\tf_utils.py:492: The name tf.ragged.RaggedTensorValue is deprecated. Please use tf.compat.v1.ragged.RaggedTensorValue instead.\n",
            "\n",
            "WARNING:tensorflow:From e:\\Projek\\color-classification\\venv\\Lib\\site-packages\\keras\\src\\engine\\base_layer_utils.py:384: The name tf.executing_eagerly_outside_functions is deprecated. Please use tf.compat.v1.executing_eagerly_outside_functions instead.\n",
            "\n",
            "88/88 [==============================] - 46s 503ms/step - loss: 1.6991 - accuracy: 0.4166 - val_loss: 1.3416 - val_accuracy: 0.5210\n",
            "Epoch 2/50\n"
          ]
        },
        {
          "name": "stderr",
          "output_type": "stream",
          "text": [
            "e:\\Projek\\color-classification\\venv\\Lib\\site-packages\\keras\\src\\engine\\training.py:3103: UserWarning: You are saving your model as an HDF5 file via `model.save()`. This file format is considered legacy. We recommend using instead the native Keras format, e.g. `model.save('my_model.keras')`.\n",
            "  saving_api.save_model(\n"
          ]
        },
        {
          "name": "stdout",
          "output_type": "stream",
          "text": [
            "88/88 [==============================] - 18s 205ms/step - loss: 1.1307 - accuracy: 0.6042 - val_loss: 1.0083 - val_accuracy: 0.6339\n",
            "Epoch 3/50\n",
            "88/88 [==============================] - 18s 208ms/step - loss: 0.9971 - accuracy: 0.6414 - val_loss: 0.9733 - val_accuracy: 0.6657\n",
            "Epoch 4/50\n",
            "88/88 [==============================] - 18s 210ms/step - loss: 0.9838 - accuracy: 0.6482 - val_loss: 0.9969 - val_accuracy: 0.6686\n",
            "Epoch 5/50\n",
            "88/88 [==============================] - 19s 210ms/step - loss: 0.9011 - accuracy: 0.6922 - val_loss: 0.8492 - val_accuracy: 0.7120\n",
            "Epoch 6/50\n",
            "88/88 [==============================] - 18s 206ms/step - loss: 0.8183 - accuracy: 0.7266 - val_loss: 0.8308 - val_accuracy: 0.7192\n",
            "Epoch 7/50\n",
            "88/88 [==============================] - 16s 186ms/step - loss: 0.7847 - accuracy: 0.7344 - val_loss: 0.8789 - val_accuracy: 0.7308\n",
            "Epoch 8/50\n",
            "88/88 [==============================] - 16s 185ms/step - loss: 0.7689 - accuracy: 0.7312 - val_loss: 0.8869 - val_accuracy: 0.7091\n",
            "Epoch 9/50\n",
            "88/88 [==============================] - 16s 180ms/step - loss: 0.7500 - accuracy: 0.7470 - val_loss: 0.7882 - val_accuracy: 0.7482\n",
            "Epoch 10/50\n",
            "88/88 [==============================] - 16s 177ms/step - loss: 0.7175 - accuracy: 0.7555 - val_loss: 0.7415 - val_accuracy: 0.7453\n",
            "Epoch 11/50\n",
            "88/88 [==============================] - 15s 176ms/step - loss: 0.7197 - accuracy: 0.7563 - val_loss: 0.7751 - val_accuracy: 0.7728\n",
            "Epoch 12/50\n",
            "88/88 [==============================] - 15s 175ms/step - loss: 0.6835 - accuracy: 0.7659 - val_loss: 0.7572 - val_accuracy: 0.7685\n",
            "Epoch 13/50\n",
            "88/88 [==============================] - 15s 175ms/step - loss: 0.6532 - accuracy: 0.7777 - val_loss: 0.7446 - val_accuracy: 0.7656\n",
            "Epoch 14/50\n",
            "88/88 [==============================] - 16s 180ms/step - loss: 0.6366 - accuracy: 0.7827 - val_loss: 0.7800 - val_accuracy: 0.7554\n",
            "Epoch 15/50\n",
            "88/88 [==============================] - 15s 173ms/step - loss: 0.6556 - accuracy: 0.7717 - val_loss: 0.8198 - val_accuracy: 0.7149\n",
            "Epoch 16/50\n",
            "88/88 [==============================] - 15s 171ms/step - loss: 0.6313 - accuracy: 0.7810 - val_loss: 0.8123 - val_accuracy: 0.7453\n",
            "Epoch 17/50\n",
            "88/88 [==============================] - 16s 179ms/step - loss: 0.6029 - accuracy: 0.7885 - val_loss: 0.8927 - val_accuracy: 0.7308\n",
            "Epoch 18/50\n",
            "88/88 [==============================] - 16s 179ms/step - loss: 0.6452 - accuracy: 0.7752 - val_loss: 0.7001 - val_accuracy: 0.7916\n",
            "Epoch 19/50\n",
            "88/88 [==============================] - 17s 189ms/step - loss: 0.5973 - accuracy: 0.7960 - val_loss: 0.8082 - val_accuracy: 0.7540\n",
            "Epoch 20/50\n",
            "88/88 [==============================] - 16s 184ms/step - loss: 0.5926 - accuracy: 0.7981 - val_loss: 0.8017 - val_accuracy: 0.7467\n",
            "Epoch 21/50\n",
            "88/88 [==============================] - 15s 171ms/step - loss: 0.5810 - accuracy: 0.8035 - val_loss: 0.8067 - val_accuracy: 0.7699\n",
            "Epoch 22/50\n",
            "88/88 [==============================] - 16s 179ms/step - loss: 0.5558 - accuracy: 0.8092 - val_loss: 0.7465 - val_accuracy: 0.7670\n",
            "Epoch 23/50\n",
            "88/88 [==============================] - 16s 186ms/step - loss: 0.5487 - accuracy: 0.8042 - val_loss: 0.7455 - val_accuracy: 0.7829\n",
            "Epoch 24/50\n",
            "88/88 [==============================] - 16s 185ms/step - loss: 0.5666 - accuracy: 0.8071 - val_loss: 0.7528 - val_accuracy: 0.7627\n",
            "Epoch 25/50\n",
            "88/88 [==============================] - 17s 188ms/step - loss: 0.5348 - accuracy: 0.8142 - val_loss: 0.6839 - val_accuracy: 0.7931\n",
            "Epoch 26/50\n",
            "88/88 [==============================] - 16s 185ms/step - loss: 0.5196 - accuracy: 0.8182 - val_loss: 0.7466 - val_accuracy: 0.7742\n",
            "Epoch 27/50\n",
            "88/88 [==============================] - 15s 174ms/step - loss: 0.5059 - accuracy: 0.8210 - val_loss: 0.7513 - val_accuracy: 0.7641\n",
            "Epoch 28/50\n",
            "88/88 [==============================] - 16s 183ms/step - loss: 0.4802 - accuracy: 0.8289 - val_loss: 0.7887 - val_accuracy: 0.7583\n",
            "Epoch 29/50\n",
            "88/88 [==============================] - 17s 189ms/step - loss: 0.4742 - accuracy: 0.8350 - val_loss: 0.7357 - val_accuracy: 0.7829\n",
            "Epoch 30/50\n",
            "88/88 [==============================] - 16s 178ms/step - loss: 0.4977 - accuracy: 0.8264 - val_loss: 0.7486 - val_accuracy: 0.7713\n",
            "Epoch 31/50\n",
            "88/88 [==============================] - 16s 177ms/step - loss: 0.4829 - accuracy: 0.8293 - val_loss: 0.8047 - val_accuracy: 0.7221\n",
            "Epoch 32/50\n",
            "88/88 [==============================] - 18s 203ms/step - loss: 0.4653 - accuracy: 0.8346 - val_loss: 0.7435 - val_accuracy: 0.7829\n",
            "Epoch 33/50\n",
            "88/88 [==============================] - 19s 217ms/step - loss: 0.4561 - accuracy: 0.8422 - val_loss: 0.7580 - val_accuracy: 0.7757\n",
            "Epoch 34/50\n",
            "88/88 [==============================] - 25s 290ms/step - loss: 0.4333 - accuracy: 0.8486 - val_loss: 0.7682 - val_accuracy: 0.7844\n",
            "Epoch 35/50\n",
            "88/88 [==============================] - 38s 430ms/step - loss: 0.4267 - accuracy: 0.8475 - val_loss: 0.7565 - val_accuracy: 0.7713\n",
            "Epoch 36/50\n",
            "88/88 [==============================] - 15s 171ms/step - loss: 0.4271 - accuracy: 0.8543 - val_loss: 0.7511 - val_accuracy: 0.7786\n",
            "Epoch 37/50\n",
            "88/88 [==============================] - 15s 171ms/step - loss: 0.3971 - accuracy: 0.8597 - val_loss: 0.9650 - val_accuracy: 0.7077\n",
            "Epoch 38/50\n",
            "88/88 [==============================] - 15s 166ms/step - loss: 0.4112 - accuracy: 0.8504 - val_loss: 0.8100 - val_accuracy: 0.7438\n",
            "Epoch 39/50\n",
            "88/88 [==============================] - 15s 166ms/step - loss: 0.3897 - accuracy: 0.8651 - val_loss: 0.8219 - val_accuracy: 0.7656\n",
            "Epoch 40/50\n",
            "88/88 [==============================] - 14s 163ms/step - loss: 0.3779 - accuracy: 0.8669 - val_loss: 0.8829 - val_accuracy: 0.7612\n",
            "Epoch 41/50\n",
            "88/88 [==============================] - 14s 159ms/step - loss: 0.3573 - accuracy: 0.8715 - val_loss: 0.7489 - val_accuracy: 0.7844\n",
            "Epoch 42/50\n",
            "88/88 [==============================] - 14s 162ms/step - loss: 0.3655 - accuracy: 0.8690 - val_loss: 0.8073 - val_accuracy: 0.7742\n",
            "Epoch 43/50\n",
            "88/88 [==============================] - 16s 185ms/step - loss: 0.3858 - accuracy: 0.8654 - val_loss: 0.8104 - val_accuracy: 0.7699\n",
            "Epoch 44/50\n",
            "88/88 [==============================] - 17s 197ms/step - loss: 0.3376 - accuracy: 0.8873 - val_loss: 0.7511 - val_accuracy: 0.7844\n",
            "Epoch 45/50\n",
            "88/88 [==============================] - 17s 190ms/step - loss: 0.3104 - accuracy: 0.8923 - val_loss: 0.8513 - val_accuracy: 0.7685\n",
            "Epoch 46/50\n",
            "88/88 [==============================] - 16s 180ms/step - loss: 0.3443 - accuracy: 0.8726 - val_loss: 0.8752 - val_accuracy: 0.7612\n",
            "Epoch 47/50\n",
            "88/88 [==============================] - 16s 176ms/step - loss: 0.3043 - accuracy: 0.8894 - val_loss: 0.8008 - val_accuracy: 0.7800\n",
            "Epoch 48/50\n",
            "88/88 [==============================] - 16s 174ms/step - loss: 0.2880 - accuracy: 0.9016 - val_loss: 0.8678 - val_accuracy: 0.7569\n",
            "Epoch 49/50\n",
            "88/88 [==============================] - 16s 177ms/step - loss: 0.2889 - accuracy: 0.8987 - val_loss: 0.9631 - val_accuracy: 0.7525\n",
            "Epoch 50/50\n",
            "88/88 [==============================] - 15s 176ms/step - loss: 0.2779 - accuracy: 0.8969 - val_loss: 0.8462 - val_accuracy: 0.7757\n"
          ]
        }
      ],
      "source": [
        "history = model.fit(\n",
        "    train_generator,\n",
        "    epochs=50,\n",
        "    validation_data=validation_generator,\n",
        "    callbacks=[checkpoint]\n",
        ")"
      ]
    },
    {
      "cell_type": "code",
      "execution_count": 10,
      "metadata": {
        "colab": {
          "base_uri": "https://localhost:8080/"
        },
        "id": "djyuyK9VxeJ2",
        "outputId": "f9fb1c06-88b2-42db-9c5f-148fc978c58e"
      },
      "outputs": [
        {
          "name": "stdout",
          "output_type": "stream",
          "text": [
            "22/22 [==============================] - 4s 161ms/step - loss: 0.8317 - accuracy: 0.7800\n",
            "Test accuracy: 0.7800289392471313\n"
          ]
        }
      ],
      "source": [
        "test_loss, test_acc = model.evaluate(validation_generator)\n",
        "print(f'Test accuracy: {test_acc}')"
      ]
    },
    {
      "cell_type": "code",
      "execution_count": 11,
      "metadata": {},
      "outputs": [
        {
          "name": "stdout",
          "output_type": "stream",
          "text": [
            "22/22 [==============================] - 4s 163ms/step\n"
          ]
        }
      ],
      "source": [
        "predictions = model.predict(validation_generator)\n",
        "predicted_classes = np.argmax(predictions, axis=1)"
      ]
    },
    {
      "cell_type": "code",
      "execution_count": 12,
      "metadata": {},
      "outputs": [],
      "source": [
        "actual_classes = validation_generator.classes"
      ]
    },
    {
      "cell_type": "code",
      "execution_count": 13,
      "metadata": {},
      "outputs": [],
      "source": [
        "conf_mat = confusion_matrix(actual_classes, predicted_classes)"
      ]
    },
    {
      "cell_type": "code",
      "execution_count": 14,
      "metadata": {},
      "outputs": [
        {
          "data": {
            "image/png": "[encoded data removed]",
            "text/plain": [
              "<Figure size 1000x800 with 2 Axes>"
            ]
          },
          "metadata": {},
          "output_type": "display_data"
        }
      ],
      "source": [
        "plt.figure(figsize=(10, 8))\n",
        "sns.heatmap(conf_mat, annot=True, fmt='d', cmap='Blues', xticklabels=CATEGORIES, yticklabels=CATEGORIES)\n",
        "plt.xlabel('Predicted')\n",
        "plt.ylabel('Actual')\n",
        "plt.title('Confusion Matrix')\n",
        "plt.show()"
      ]
    },
    {
      "cell_type": "code",
      "execution_count": 15,
      "metadata": {
        "id": "P-jCuB5Ouvzl"
      },
      "outputs": [
        {
          "name": "stderr",
          "output_type": "stream",
          "text": [
            "e:\\Projek\\color-classification\\venv\\Lib\\site-packages\\keras\\src\\engine\\training.py:3103: UserWarning: You are saving your model as an HDF5 file via `model.save()`. This file format is considered legacy. We recommend using instead the native Keras format, e.g. `model.save('my_model.keras')`.\n",
            "  saving_api.save_model(\n"
          ]
        }
      ],
      "source": [
        "# Save the final model\n",
        "model.save('color_classification_cnn_model.h5')"
      ]
    }
  ],
  "metadata": {
    "colab": {
      "provenance": []
    },
    "kernelspec": {
      "display_name": "Python 3",
      "name": "python3"
    },
    "language_info": {
      "codemirror_mode": {
        "name": "ipython",
        "version": 3
      },
      "file_extension": ".py",
      "mimetype": "text/x-python",
      "name": "python",
      "nbconvert_exporter": "python",
      "pygments_lexer": "ipython3",
      "version": "3.11.4"
    }
  },
  "nbformat": 4,
  "nbformat_minor": 0
}
