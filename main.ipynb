{
 "cells": [
  {
   "cell_type": "code",
   "execution_count": 6,
   "metadata": {},
   "outputs": [],
   "source": [
    "import torch"
   ]
  },
  {
   "cell_type": "code",
   "execution_count": null,
   "metadata": {},
   "outputs": [],
   "source": []
  },
  {
   "cell_type": "code",
   "execution_count": 7,
   "metadata": {},
   "outputs": [
    {
     "name": "stdout",
     "output_type": "stream",
     "text": [
      "WARNING:tensorflow:From e:\\Projek\\color-classification\\venv\\Lib\\site-packages\\keras\\src\\losses.py:2976: The name tf.losses.sparse_softmax_cross_entropy is deprecated. Please use tf.compat.v1.losses.sparse_softmax_cross_entropy instead.\n",
      "\n"
     ]
    }
   ],
   "source": [
    "import numpy as np\n",
    "from tensorflow.keras.models import load_model\n",
    "from tensorflow.keras.preprocessing import image\n",
    "import matplotlib.pyplot as plt\n"
   ]
  },
  {
   "cell_type": "code",
   "execution_count": 8,
   "metadata": {},
   "outputs": [
    {
     "name": "stdout",
     "output_type": "stream",
     "text": [
      "WARNING:tensorflow:From e:\\Projek\\color-classification\\venv\\Lib\\site-packages\\keras\\src\\backend.py:1398: The name tf.executing_eagerly_outside_functions is deprecated. Please use tf.compat.v1.executing_eagerly_outside_functions instead.\n",
      "\n",
      "WARNING:tensorflow:From e:\\Projek\\color-classification\\venv\\Lib\\site-packages\\keras\\src\\layers\\pooling\\max_pooling2d.py:161: The name tf.nn.max_pool is deprecated. Please use tf.nn.max_pool2d instead.\n",
      "\n"
     ]
    }
   ],
   "source": [
    "# Load the trained model\n",
    "model = load_model('color_classification_cnn_model.h5')  # Replace with the path to your h5 model file"
   ]
  },
  {
   "cell_type": "code",
   "execution_count": 17,
   "metadata": {},
   "outputs": [],
   "source": [
    "# Function to preprocess an image for prediction\n",
    "def preprocess_image(image_path):\n",
    "    img = image.load_img(image_path, target_size=(640, 640))\n",
    "    img_array = image.img_to_array(img)\n",
    "    img_array = np.expand_dims(img_array, axis=0)\n",
    "    img_array /= 255.0  # Normalize pixel values to be between 0 and 1\n",
    "    return img_array"
   ]
  },
  {
   "cell_type": "code",
   "execution_count": 10,
   "metadata": {},
   "outputs": [],
   "source": [
    "# Function to make predictions and display the result\n",
    "def predict_and_display(image_path):\n",
    "    # Preprocess the image\n",
    "    img_array = preprocess_image(image_path)\n",
    "    CATEGORIES = ['Black','Blue','Brown','Gray', 'Green','Orange','Pink','Purple','Red','White','Yellow']\n",
    "    # Make predictions\n",
    "    predictions = model.predict(img_array)\n",
    "\n",
    "    # Get the predicted class\n",
    "    predicted_class = np.argmax(predictions)\n",
    "\n",
    "    # Load and display the image\n",
    "    img = image.load_img(image_path, target_size=(32, 32))\n",
    "    plt.imshow(img)\n",
    "    plt.axis('off')\n",
    "\n",
    "    # Display the predicted class\n",
    "    plt.title(f'Predicted Class: {CATEGORIES[predicted_class]}')\n",
    "    plt.show()\n"
   ]
  },
  {
   "cell_type": "code",
   "execution_count": 18,
   "metadata": {},
   "outputs": [
    {
     "ename": "InvalidArgumentError",
     "evalue": "Graph execution error:\n\nDetected at node sequential/dense/Relu defined at (most recent call last):\n  File \"<frozen runpy>\", line 198, in _run_module_as_main\n\n  File \"<frozen runpy>\", line 88, in _run_code\n\n  File \"e:\\Projek\\color-classification\\venv\\Lib\\site-packages\\ipykernel_launcher.py\", line 17, in <module>\n\n  File \"e:\\Projek\\color-classification\\venv\\Lib\\site-packages\\traitlets\\config\\application.py\", line 1077, in launch_instance\n\n  File \"e:\\Projek\\color-classification\\venv\\Lib\\site-packages\\ipykernel\\kernelapp.py\", line 739, in start\n\n  File \"e:\\Projek\\color-classification\\venv\\Lib\\site-packages\\tornado\\platform\\asyncio.py\", line 205, in start\n\n  File \"C:\\Users\\afdal\\AppData\\Local\\Programs\\Python\\Python311\\Lib\\asyncio\\base_events.py\", line 607, in run_forever\n\n  File \"C:\\Users\\afdal\\AppData\\Local\\Programs\\Python\\Python311\\Lib\\asyncio\\base_events.py\", line 1922, in _run_once\n\n  File \"C:\\Users\\afdal\\AppData\\Local\\Programs\\Python\\Python311\\Lib\\asyncio\\events.py\", line 80, in _run\n\n  File \"e:\\Projek\\color-classification\\venv\\Lib\\site-packages\\ipykernel\\kernelbase.py\", line 529, in dispatch_queue\n\n  File \"e:\\Projek\\color-classification\\venv\\Lib\\site-packages\\ipykernel\\kernelbase.py\", line 518, in process_one\n\n  File \"e:\\Projek\\color-classification\\venv\\Lib\\site-packages\\ipykernel\\kernelbase.py\", line 424, in dispatch_shell\n\n  File \"e:\\Projek\\color-classification\\venv\\Lib\\site-packages\\ipykernel\\kernelbase.py\", line 766, in execute_request\n\n  File \"e:\\Projek\\color-classification\\venv\\Lib\\site-packages\\ipykernel\\ipkernel.py\", line 429, in do_execute\n\n  File \"e:\\Projek\\color-classification\\venv\\Lib\\site-packages\\ipykernel\\zmqshell.py\", line 549, in run_cell\n\n  File \"e:\\Projek\\color-classification\\venv\\Lib\\site-packages\\IPython\\core\\interactiveshell.py\", line 3048, in run_cell\n\n  File \"e:\\Projek\\color-classification\\venv\\Lib\\site-packages\\IPython\\core\\interactiveshell.py\", line 3103, in _run_cell\n\n  File \"e:\\Projek\\color-classification\\venv\\Lib\\site-packages\\IPython\\core\\async_helpers.py\", line 129, in _pseudo_sync_runner\n\n  File \"e:\\Projek\\color-classification\\venv\\Lib\\site-packages\\IPython\\core\\interactiveshell.py\", line 3308, in run_cell_async\n\n  File \"e:\\Projek\\color-classification\\venv\\Lib\\site-packages\\IPython\\core\\interactiveshell.py\", line 3490, in run_ast_nodes\n\n  File \"e:\\Projek\\color-classification\\venv\\Lib\\site-packages\\IPython\\core\\interactiveshell.py\", line 3550, in run_code\n\n  File \"C:\\Users\\afdal\\AppData\\Local\\Temp\\ipykernel_16456\\887106687.py\", line 3, in <module>\n\n  File \"C:\\Users\\afdal\\AppData\\Local\\Temp\\ipykernel_16456\\1028488628.py\", line 7, in predict_and_display\n\n  File \"e:\\Projek\\color-classification\\venv\\Lib\\site-packages\\keras\\src\\utils\\traceback_utils.py\", line 65, in error_handler\n\n  File \"e:\\Projek\\color-classification\\venv\\Lib\\site-packages\\keras\\src\\engine\\training.py\", line 2655, in predict\n\n  File \"e:\\Projek\\color-classification\\venv\\Lib\\site-packages\\keras\\src\\engine\\training.py\", line 2440, in predict_function\n\n  File \"e:\\Projek\\color-classification\\venv\\Lib\\site-packages\\keras\\src\\engine\\training.py\", line 2425, in step_function\n\n  File \"e:\\Projek\\color-classification\\venv\\Lib\\site-packages\\keras\\src\\engine\\training.py\", line 2413, in run_step\n\n  File \"e:\\Projek\\color-classification\\venv\\Lib\\site-packages\\keras\\src\\engine\\training.py\", line 2381, in predict_step\n\n  File \"e:\\Projek\\color-classification\\venv\\Lib\\site-packages\\keras\\src\\utils\\traceback_utils.py\", line 65, in error_handler\n\n  File \"e:\\Projek\\color-classification\\venv\\Lib\\site-packages\\keras\\src\\engine\\training.py\", line 590, in __call__\n\n  File \"e:\\Projek\\color-classification\\venv\\Lib\\site-packages\\keras\\src\\utils\\traceback_utils.py\", line 65, in error_handler\n\n  File \"e:\\Projek\\color-classification\\venv\\Lib\\site-packages\\keras\\src\\engine\\base_layer.py\", line 1149, in __call__\n\n  File \"e:\\Projek\\color-classification\\venv\\Lib\\site-packages\\keras\\src\\utils\\traceback_utils.py\", line 96, in error_handler\n\n  File \"e:\\Projek\\color-classification\\venv\\Lib\\site-packages\\keras\\src\\engine\\sequential.py\", line 398, in call\n\n  File \"e:\\Projek\\color-classification\\venv\\Lib\\site-packages\\keras\\src\\engine\\functional.py\", line 515, in call\n\n  File \"e:\\Projek\\color-classification\\venv\\Lib\\site-packages\\keras\\src\\engine\\functional.py\", line 672, in _run_internal_graph\n\n  File \"e:\\Projek\\color-classification\\venv\\Lib\\site-packages\\keras\\src\\utils\\traceback_utils.py\", line 65, in error_handler\n\n  File \"e:\\Projek\\color-classification\\venv\\Lib\\site-packages\\keras\\src\\engine\\base_layer.py\", line 1149, in __call__\n\n  File \"e:\\Projek\\color-classification\\venv\\Lib\\site-packages\\keras\\src\\utils\\traceback_utils.py\", line 96, in error_handler\n\n  File \"e:\\Projek\\color-classification\\venv\\Lib\\site-packages\\keras\\src\\layers\\core\\dense.py\", line 255, in call\n\n  File \"e:\\Projek\\color-classification\\venv\\Lib\\site-packages\\keras\\src\\activations.py\", line 306, in relu\n\n  File \"e:\\Projek\\color-classification\\venv\\Lib\\site-packages\\keras\\src\\backend.py\", line 5395, in relu\n\nMatrix size-incompatible: In[0]: [1,1557504], In[1]: [1024,64]\n\t [[{{node sequential/dense/Relu}}]] [Op:__inference_predict_function_542]",
     "output_type": "error",
     "traceback": [
      "\u001b[1;31m---------------------------------------------------------------------------\u001b[0m",
      "\u001b[1;31mInvalidArgumentError\u001b[0m                      Traceback (most recent call last)",
      "Cell \u001b[1;32mIn[18], line 3\u001b[0m\n\u001b[0;32m      1\u001b[0m \u001b[38;5;66;03m# Example: Replace 'path/to/your/image.jpg' with the path to your new image\u001b[39;00m\n\u001b[0;32m      2\u001b[0m new_image_path \u001b[38;5;241m=\u001b[39m \u001b[38;5;124m'\u001b[39m\u001b[38;5;124m./cropped/IMG20231214210246/cropped_body2_0.48.jpg\u001b[39m\u001b[38;5;124m'\u001b[39m\n\u001b[1;32m----> 3\u001b[0m \u001b[43mpredict_and_display\u001b[49m\u001b[43m(\u001b[49m\u001b[43mnew_image_path\u001b[49m\u001b[43m)\u001b[49m\n",
      "Cell \u001b[1;32mIn[10], line 7\u001b[0m, in \u001b[0;36mpredict_and_display\u001b[1;34m(image_path)\u001b[0m\n\u001b[0;32m      5\u001b[0m CATEGORIES \u001b[38;5;241m=\u001b[39m [\u001b[38;5;124m'\u001b[39m\u001b[38;5;124mBlack\u001b[39m\u001b[38;5;124m'\u001b[39m,\u001b[38;5;124m'\u001b[39m\u001b[38;5;124mBlue\u001b[39m\u001b[38;5;124m'\u001b[39m,\u001b[38;5;124m'\u001b[39m\u001b[38;5;124mBrown\u001b[39m\u001b[38;5;124m'\u001b[39m,\u001b[38;5;124m'\u001b[39m\u001b[38;5;124mGray\u001b[39m\u001b[38;5;124m'\u001b[39m, \u001b[38;5;124m'\u001b[39m\u001b[38;5;124mGreen\u001b[39m\u001b[38;5;124m'\u001b[39m,\u001b[38;5;124m'\u001b[39m\u001b[38;5;124mOrange\u001b[39m\u001b[38;5;124m'\u001b[39m,\u001b[38;5;124m'\u001b[39m\u001b[38;5;124mPink\u001b[39m\u001b[38;5;124m'\u001b[39m,\u001b[38;5;124m'\u001b[39m\u001b[38;5;124mPurple\u001b[39m\u001b[38;5;124m'\u001b[39m,\u001b[38;5;124m'\u001b[39m\u001b[38;5;124mRed\u001b[39m\u001b[38;5;124m'\u001b[39m,\u001b[38;5;124m'\u001b[39m\u001b[38;5;124mWhite\u001b[39m\u001b[38;5;124m'\u001b[39m,\u001b[38;5;124m'\u001b[39m\u001b[38;5;124mYellow\u001b[39m\u001b[38;5;124m'\u001b[39m]\n\u001b[0;32m      6\u001b[0m \u001b[38;5;66;03m# Make predictions\u001b[39;00m\n\u001b[1;32m----> 7\u001b[0m predictions \u001b[38;5;241m=\u001b[39m \u001b[43mmodel\u001b[49m\u001b[38;5;241;43m.\u001b[39;49m\u001b[43mpredict\u001b[49m\u001b[43m(\u001b[49m\u001b[43mimg_array\u001b[49m\u001b[43m)\u001b[49m\n\u001b[0;32m      9\u001b[0m \u001b[38;5;66;03m# Get the predicted class\u001b[39;00m\n\u001b[0;32m     10\u001b[0m predicted_class \u001b[38;5;241m=\u001b[39m np\u001b[38;5;241m.\u001b[39margmax(predictions)\n",
      "File \u001b[1;32me:\\Projek\\color-classification\\venv\\Lib\\site-packages\\keras\\src\\utils\\traceback_utils.py:70\u001b[0m, in \u001b[0;36mfilter_traceback.<locals>.error_handler\u001b[1;34m(*args, **kwargs)\u001b[0m\n\u001b[0;32m     67\u001b[0m     filtered_tb \u001b[38;5;241m=\u001b[39m _process_traceback_frames(e\u001b[38;5;241m.\u001b[39m__traceback__)\n\u001b[0;32m     68\u001b[0m     \u001b[38;5;66;03m# To get the full stack trace, call:\u001b[39;00m\n\u001b[0;32m     69\u001b[0m     \u001b[38;5;66;03m# `tf.debugging.disable_traceback_filtering()`\u001b[39;00m\n\u001b[1;32m---> 70\u001b[0m     \u001b[38;5;28;01mraise\u001b[39;00m e\u001b[38;5;241m.\u001b[39mwith_traceback(filtered_tb) \u001b[38;5;28;01mfrom\u001b[39;00m \u001b[38;5;28;01mNone\u001b[39;00m\n\u001b[0;32m     71\u001b[0m \u001b[38;5;28;01mfinally\u001b[39;00m:\n\u001b[0;32m     72\u001b[0m     \u001b[38;5;28;01mdel\u001b[39;00m filtered_tb\n",
      "File \u001b[1;32me:\\Projek\\color-classification\\venv\\Lib\\site-packages\\tensorflow\\python\\eager\\execute.py:53\u001b[0m, in \u001b[0;36mquick_execute\u001b[1;34m(op_name, num_outputs, inputs, attrs, ctx, name)\u001b[0m\n\u001b[0;32m     51\u001b[0m \u001b[38;5;28;01mtry\u001b[39;00m:\n\u001b[0;32m     52\u001b[0m   ctx\u001b[38;5;241m.\u001b[39mensure_initialized()\n\u001b[1;32m---> 53\u001b[0m   tensors \u001b[38;5;241m=\u001b[39m pywrap_tfe\u001b[38;5;241m.\u001b[39mTFE_Py_Execute(ctx\u001b[38;5;241m.\u001b[39m_handle, device_name, op_name,\n\u001b[0;32m     54\u001b[0m                                       inputs, attrs, num_outputs)\n\u001b[0;32m     55\u001b[0m \u001b[38;5;28;01mexcept\u001b[39;00m core\u001b[38;5;241m.\u001b[39m_NotOkStatusException \u001b[38;5;28;01mas\u001b[39;00m e:\n\u001b[0;32m     56\u001b[0m   \u001b[38;5;28;01mif\u001b[39;00m name \u001b[38;5;129;01mis\u001b[39;00m \u001b[38;5;129;01mnot\u001b[39;00m \u001b[38;5;28;01mNone\u001b[39;00m:\n",
      "\u001b[1;31mInvalidArgumentError\u001b[0m: Graph execution error:\n\nDetected at node sequential/dense/Relu defined at (most recent call last):\n  File \"<frozen runpy>\", line 198, in _run_module_as_main\n\n  File \"<frozen runpy>\", line 88, in _run_code\n\n  File \"e:\\Projek\\color-classification\\venv\\Lib\\site-packages\\ipykernel_launcher.py\", line 17, in <module>\n\n  File \"e:\\Projek\\color-classification\\venv\\Lib\\site-packages\\traitlets\\config\\application.py\", line 1077, in launch_instance\n\n  File \"e:\\Projek\\color-classification\\venv\\Lib\\site-packages\\ipykernel\\kernelapp.py\", line 739, in start\n\n  File \"e:\\Projek\\color-classification\\venv\\Lib\\site-packages\\tornado\\platform\\asyncio.py\", line 205, in start\n\n  File \"C:\\Users\\afdal\\AppData\\Local\\Programs\\Python\\Python311\\Lib\\asyncio\\base_events.py\", line 607, in run_forever\n\n  File \"C:\\Users\\afdal\\AppData\\Local\\Programs\\Python\\Python311\\Lib\\asyncio\\base_events.py\", line 1922, in _run_once\n\n  File \"C:\\Users\\afdal\\AppData\\Local\\Programs\\Python\\Python311\\Lib\\asyncio\\events.py\", line 80, in _run\n\n  File \"e:\\Projek\\color-classification\\venv\\Lib\\site-packages\\ipykernel\\kernelbase.py\", line 529, in dispatch_queue\n\n  File \"e:\\Projek\\color-classification\\venv\\Lib\\site-packages\\ipykernel\\kernelbase.py\", line 518, in process_one\n\n  File \"e:\\Projek\\color-classification\\venv\\Lib\\site-packages\\ipykernel\\kernelbase.py\", line 424, in dispatch_shell\n\n  File \"e:\\Projek\\color-classification\\venv\\Lib\\site-packages\\ipykernel\\kernelbase.py\", line 766, in execute_request\n\n  File \"e:\\Projek\\color-classification\\venv\\Lib\\site-packages\\ipykernel\\ipkernel.py\", line 429, in do_execute\n\n  File \"e:\\Projek\\color-classification\\venv\\Lib\\site-packages\\ipykernel\\zmqshell.py\", line 549, in run_cell\n\n  File \"e:\\Projek\\color-classification\\venv\\Lib\\site-packages\\IPython\\core\\interactiveshell.py\", line 3048, in run_cell\n\n  File \"e:\\Projek\\color-classification\\venv\\Lib\\site-packages\\IPython\\core\\interactiveshell.py\", line 3103, in _run_cell\n\n  File \"e:\\Projek\\color-classification\\venv\\Lib\\site-packages\\IPython\\core\\async_helpers.py\", line 129, in _pseudo_sync_runner\n\n  File \"e:\\Projek\\color-classification\\venv\\Lib\\site-packages\\IPython\\core\\interactiveshell.py\", line 3308, in run_cell_async\n\n  File \"e:\\Projek\\color-classification\\venv\\Lib\\site-packages\\IPython\\core\\interactiveshell.py\", line 3490, in run_ast_nodes\n\n  File \"e:\\Projek\\color-classification\\venv\\Lib\\site-packages\\IPython\\core\\interactiveshell.py\", line 3550, in run_code\n\n  File \"C:\\Users\\afdal\\AppData\\Local\\Temp\\ipykernel_16456\\887106687.py\", line 3, in <module>\n\n  File \"C:\\Users\\afdal\\AppData\\Local\\Temp\\ipykernel_16456\\1028488628.py\", line 7, in predict_and_display\n\n  File \"e:\\Projek\\color-classification\\venv\\Lib\\site-packages\\keras\\src\\utils\\traceback_utils.py\", line 65, in error_handler\n\n  File \"e:\\Projek\\color-classification\\venv\\Lib\\site-packages\\keras\\src\\engine\\training.py\", line 2655, in predict\n\n  File \"e:\\Projek\\color-classification\\venv\\Lib\\site-packages\\keras\\src\\engine\\training.py\", line 2440, in predict_function\n\n  File \"e:\\Projek\\color-classification\\venv\\Lib\\site-packages\\keras\\src\\engine\\training.py\", line 2425, in step_function\n\n  File \"e:\\Projek\\color-classification\\venv\\Lib\\site-packages\\keras\\src\\engine\\training.py\", line 2413, in run_step\n\n  File \"e:\\Projek\\color-classification\\venv\\Lib\\site-packages\\keras\\src\\engine\\training.py\", line 2381, in predict_step\n\n  File \"e:\\Projek\\color-classification\\venv\\Lib\\site-packages\\keras\\src\\utils\\traceback_utils.py\", line 65, in error_handler\n\n  File \"e:\\Projek\\color-classification\\venv\\Lib\\site-packages\\keras\\src\\engine\\training.py\", line 590, in __call__\n\n  File \"e:\\Projek\\color-classification\\venv\\Lib\\site-packages\\keras\\src\\utils\\traceback_utils.py\", line 65, in error_handler\n\n  File \"e:\\Projek\\color-classification\\venv\\Lib\\site-packages\\keras\\src\\engine\\base_layer.py\", line 1149, in __call__\n\n  File \"e:\\Projek\\color-classification\\venv\\Lib\\site-packages\\keras\\src\\utils\\traceback_utils.py\", line 96, in error_handler\n\n  File \"e:\\Projek\\color-classification\\venv\\Lib\\site-packages\\keras\\src\\engine\\sequential.py\", line 398, in call\n\n  File \"e:\\Projek\\color-classification\\venv\\Lib\\site-packages\\keras\\src\\engine\\functional.py\", line 515, in call\n\n  File \"e:\\Projek\\color-classification\\venv\\Lib\\site-packages\\keras\\src\\engine\\functional.py\", line 672, in _run_internal_graph\n\n  File \"e:\\Projek\\color-classification\\venv\\Lib\\site-packages\\keras\\src\\utils\\traceback_utils.py\", line 65, in error_handler\n\n  File \"e:\\Projek\\color-classification\\venv\\Lib\\site-packages\\keras\\src\\engine\\base_layer.py\", line 1149, in __call__\n\n  File \"e:\\Projek\\color-classification\\venv\\Lib\\site-packages\\keras\\src\\utils\\traceback_utils.py\", line 96, in error_handler\n\n  File \"e:\\Projek\\color-classification\\venv\\Lib\\site-packages\\keras\\src\\layers\\core\\dense.py\", line 255, in call\n\n  File \"e:\\Projek\\color-classification\\venv\\Lib\\site-packages\\keras\\src\\activations.py\", line 306, in relu\n\n  File \"e:\\Projek\\color-classification\\venv\\Lib\\site-packages\\keras\\src\\backend.py\", line 5395, in relu\n\nMatrix size-incompatible: In[0]: [1,1557504], In[1]: [1024,64]\n\t [[{{node sequential/dense/Relu}}]] [Op:__inference_predict_function_542]"
     ]
    }
   ],
   "source": [
    "# Example: Replace 'path/to/your/image.jpg' with the path to your new image\n",
    "new_image_path = './cropped/IMG20231214210246/cropped_body2_0.48.jpg'\n",
    "predict_and_display(new_image_path)"
   ]
  },
  {
   "cell_type": "code",
   "execution_count": null,
   "metadata": {},
   "outputs": [],
   "source": []
  }
 ],
 "metadata": {
  "kernelspec": {
   "display_name": "venv",
   "language": "python",
   "name": "python3"
  },
  "language_info": {
   "codemirror_mode": {
    "name": "ipython",
    "version": 3
   },
   "file_extension": ".py",
   "mimetype": "text/x-python",
   "name": "python",
   "nbconvert_exporter": "python",
   "pygments_lexer": "ipython3",
   "version": "3.11.4"
  }
 },
 "nbformat": 4,
 "nbformat_minor": 2
}
